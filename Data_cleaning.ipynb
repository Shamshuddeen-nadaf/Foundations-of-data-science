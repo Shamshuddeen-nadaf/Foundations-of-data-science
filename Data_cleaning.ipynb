{
  "cells": [
    {
      "cell_type": "markdown",
      "metadata": {
        "id": "UjLdBqC4wKuU"
      },
      "source": [
        "DATA CLEANING"
      ]
    },
    {
      "cell_type": "markdown",
      "metadata": {
        "id": "d1527ee1"
      },
      "source": [
        "# Task\n",
        "Analyze the \"Zomato Dataset.csv\" file to identify outliers, missing values, perform data transformations, and determine the best features."
      ]
    },
    {
      "cell_type": "markdown",
      "metadata": {
        "id": "6a836ee1"
      },
      "source": [
        "## Load the data\n",
        "\n",
        "### Subtask:\n",
        "Load the \"Zomato Dataset.csv\" file into a pandas DataFrame.\n"
      ]
    },
    {
      "cell_type": "markdown",
      "metadata": {
        "id": "d29faa53"
      },
      "source": [
        "**Reasoning**:\n",
        "The first step is to import the pandas library to work with DataFrames and then read the CSV file into a DataFrame and display the head.\n",
        "\n"
      ]
    },
    {
      "cell_type": "code",
      "execution_count": 9,
      "metadata": {
        "colab": {
          "base_uri": "https://localhost:8080/",
          "height": 243
        },
        "id": "ec83a034",
        "outputId": "b7b8c2ca-a11b-40be-ca6e-4009cf4b39f9"
      },
      "outputs": [
        {
          "data": {
            "application/vnd.microsoft.datawrangler.viewer.v0+json": {
              "columns": [
                {
                  "name": "index",
                  "rawType": "int64",
                  "type": "integer"
                },
                {
                  "name": "ID",
                  "rawType": "object",
                  "type": "string"
                },
                {
                  "name": "Delivery_person_ID",
                  "rawType": "object",
                  "type": "string"
                },
                {
                  "name": "Delivery_person_Age",
                  "rawType": "float64",
                  "type": "float"
                },
                {
                  "name": "Delivery_person_Ratings",
                  "rawType": "float64",
                  "type": "float"
                },
                {
                  "name": "Restaurant_latitude",
                  "rawType": "float64",
                  "type": "float"
                },
                {
                  "name": "Restaurant_longitude",
                  "rawType": "float64",
                  "type": "float"
                },
                {
                  "name": "Delivery_location_latitude",
                  "rawType": "float64",
                  "type": "float"
                },
                {
                  "name": "Delivery_location_longitude",
                  "rawType": "float64",
                  "type": "float"
                },
                {
                  "name": "Order_Date",
                  "rawType": "object",
                  "type": "string"
                },
                {
                  "name": "Time_Orderd",
                  "rawType": "object",
                  "type": "string"
                },
                {
                  "name": "Time_Order_picked",
                  "rawType": "object",
                  "type": "string"
                },
                {
                  "name": "Weather_conditions",
                  "rawType": "object",
                  "type": "string"
                },
                {
                  "name": "Road_traffic_density",
                  "rawType": "object",
                  "type": "string"
                },
                {
                  "name": "Vehicle_condition",
                  "rawType": "int64",
                  "type": "integer"
                },
                {
                  "name": "Type_of_order",
                  "rawType": "object",
                  "type": "string"
                },
                {
                  "name": "Type_of_vehicle",
                  "rawType": "object",
                  "type": "string"
                },
                {
                  "name": "multiple_deliveries",
                  "rawType": "float64",
                  "type": "float"
                },
                {
                  "name": "Festival",
                  "rawType": "object",
                  "type": "string"
                },
                {
                  "name": "City",
                  "rawType": "object",
                  "type": "string"
                },
                {
                  "name": "Time_taken (min)",
                  "rawType": "int64",
                  "type": "integer"
                }
              ],
              "ref": "af79345d-cb0c-48b4-9026-2e2a6a71fc8c",
              "rows": [
                [
                  "0",
                  "0xcdcd",
                  "DEHRES17DEL01",
                  "36.0",
                  "4.2",
                  "30.327968",
                  "78.046106",
                  "30.397968",
                  "78.116106",
                  "12-02-2022",
                  "21:55",
                  "22:10",
                  "Fog",
                  "Jam",
                  "2",
                  "Snack",
                  "motorcycle",
                  "3.0",
                  "No",
                  "Metropolitian",
                  "46"
                ],
                [
                  "1",
                  "0xd987",
                  "KOCRES16DEL01",
                  "21.0",
                  "4.7",
                  "10.003064",
                  "76.307589",
                  "10.043064",
                  "76.347589",
                  "13-02-2022",
                  "14:55",
                  "15:05",
                  "Stormy",
                  "High",
                  "1",
                  "Meal",
                  "motorcycle",
                  "1.0",
                  "No",
                  "Metropolitian",
                  "23"
                ],
                [
                  "2",
                  "0x2784",
                  "PUNERES13DEL03",
                  "23.0",
                  "4.7",
                  "18.56245",
                  "73.916619",
                  "18.65245",
                  "74.006619",
                  "04-03-2022",
                  "17:30",
                  "17:40",
                  "Sandstorms",
                  "Medium",
                  "1",
                  "Drinks",
                  "scooter",
                  "1.0",
                  "No",
                  "Metropolitian",
                  "21"
                ],
                [
                  "3",
                  "0xc8b6",
                  "LUDHRES15DEL02",
                  "34.0",
                  "4.3",
                  "30.899584",
                  "75.809346",
                  "30.919584",
                  "75.829346",
                  "13-02-2022",
                  "09:20",
                  "09:30",
                  "Sandstorms",
                  "Low",
                  "0",
                  "Buffet",
                  "motorcycle",
                  "0.0",
                  "No",
                  "Metropolitian",
                  "20"
                ],
                [
                  "4",
                  "0xdb64",
                  "KNPRES14DEL02",
                  "24.0",
                  "4.7",
                  "26.463504",
                  "80.372929",
                  "26.593504",
                  "80.502929",
                  "14-02-2022",
                  "19:50",
                  "20:05",
                  "Fog",
                  "Jam",
                  "1",
                  "Snack",
                  "scooter",
                  "1.0",
                  "No",
                  "Metropolitian",
                  "41"
                ]
              ],
              "shape": {
                "columns": 20,
                "rows": 5
              }
            },
            "text/html": [
              "<div>\n",
              "<style scoped>\n",
              "    .dataframe tbody tr th:only-of-type {\n",
              "        vertical-align: middle;\n",
              "    }\n",
              "\n",
              "    .dataframe tbody tr th {\n",
              "        vertical-align: top;\n",
              "    }\n",
              "\n",
              "    .dataframe thead th {\n",
              "        text-align: right;\n",
              "    }\n",
              "</style>\n",
              "<table border=\"1\" class=\"dataframe\">\n",
              "  <thead>\n",
              "    <tr style=\"text-align: right;\">\n",
              "      <th></th>\n",
              "      <th>ID</th>\n",
              "      <th>Delivery_person_ID</th>\n",
              "      <th>Delivery_person_Age</th>\n",
              "      <th>Delivery_person_Ratings</th>\n",
              "      <th>Restaurant_latitude</th>\n",
              "      <th>Restaurant_longitude</th>\n",
              "      <th>Delivery_location_latitude</th>\n",
              "      <th>Delivery_location_longitude</th>\n",
              "      <th>Order_Date</th>\n",
              "      <th>Time_Orderd</th>\n",
              "      <th>Time_Order_picked</th>\n",
              "      <th>Weather_conditions</th>\n",
              "      <th>Road_traffic_density</th>\n",
              "      <th>Vehicle_condition</th>\n",
              "      <th>Type_of_order</th>\n",
              "      <th>Type_of_vehicle</th>\n",
              "      <th>multiple_deliveries</th>\n",
              "      <th>Festival</th>\n",
              "      <th>City</th>\n",
              "      <th>Time_taken (min)</th>\n",
              "    </tr>\n",
              "  </thead>\n",
              "  <tbody>\n",
              "    <tr>\n",
              "      <th>0</th>\n",
              "      <td>0xcdcd</td>\n",
              "      <td>DEHRES17DEL01</td>\n",
              "      <td>36.0</td>\n",
              "      <td>4.2</td>\n",
              "      <td>30.327968</td>\n",
              "      <td>78.046106</td>\n",
              "      <td>30.397968</td>\n",
              "      <td>78.116106</td>\n",
              "      <td>12-02-2022</td>\n",
              "      <td>21:55</td>\n",
              "      <td>22:10</td>\n",
              "      <td>Fog</td>\n",
              "      <td>Jam</td>\n",
              "      <td>2</td>\n",
              "      <td>Snack</td>\n",
              "      <td>motorcycle</td>\n",
              "      <td>3.0</td>\n",
              "      <td>No</td>\n",
              "      <td>Metropolitian</td>\n",
              "      <td>46</td>\n",
              "    </tr>\n",
              "    <tr>\n",
              "      <th>1</th>\n",
              "      <td>0xd987</td>\n",
              "      <td>KOCRES16DEL01</td>\n",
              "      <td>21.0</td>\n",
              "      <td>4.7</td>\n",
              "      <td>10.003064</td>\n",
              "      <td>76.307589</td>\n",
              "      <td>10.043064</td>\n",
              "      <td>76.347589</td>\n",
              "      <td>13-02-2022</td>\n",
              "      <td>14:55</td>\n",
              "      <td>15:05</td>\n",
              "      <td>Stormy</td>\n",
              "      <td>High</td>\n",
              "      <td>1</td>\n",
              "      <td>Meal</td>\n",
              "      <td>motorcycle</td>\n",
              "      <td>1.0</td>\n",
              "      <td>No</td>\n",
              "      <td>Metropolitian</td>\n",
              "      <td>23</td>\n",
              "    </tr>\n",
              "    <tr>\n",
              "      <th>2</th>\n",
              "      <td>0x2784</td>\n",
              "      <td>PUNERES13DEL03</td>\n",
              "      <td>23.0</td>\n",
              "      <td>4.7</td>\n",
              "      <td>18.562450</td>\n",
              "      <td>73.916619</td>\n",
              "      <td>18.652450</td>\n",
              "      <td>74.006619</td>\n",
              "      <td>04-03-2022</td>\n",
              "      <td>17:30</td>\n",
              "      <td>17:40</td>\n",
              "      <td>Sandstorms</td>\n",
              "      <td>Medium</td>\n",
              "      <td>1</td>\n",
              "      <td>Drinks</td>\n",
              "      <td>scooter</td>\n",
              "      <td>1.0</td>\n",
              "      <td>No</td>\n",
              "      <td>Metropolitian</td>\n",
              "      <td>21</td>\n",
              "    </tr>\n",
              "    <tr>\n",
              "      <th>3</th>\n",
              "      <td>0xc8b6</td>\n",
              "      <td>LUDHRES15DEL02</td>\n",
              "      <td>34.0</td>\n",
              "      <td>4.3</td>\n",
              "      <td>30.899584</td>\n",
              "      <td>75.809346</td>\n",
              "      <td>30.919584</td>\n",
              "      <td>75.829346</td>\n",
              "      <td>13-02-2022</td>\n",
              "      <td>09:20</td>\n",
              "      <td>09:30</td>\n",
              "      <td>Sandstorms</td>\n",
              "      <td>Low</td>\n",
              "      <td>0</td>\n",
              "      <td>Buffet</td>\n",
              "      <td>motorcycle</td>\n",
              "      <td>0.0</td>\n",
              "      <td>No</td>\n",
              "      <td>Metropolitian</td>\n",
              "      <td>20</td>\n",
              "    </tr>\n",
              "    <tr>\n",
              "      <th>4</th>\n",
              "      <td>0xdb64</td>\n",
              "      <td>KNPRES14DEL02</td>\n",
              "      <td>24.0</td>\n",
              "      <td>4.7</td>\n",
              "      <td>26.463504</td>\n",
              "      <td>80.372929</td>\n",
              "      <td>26.593504</td>\n",
              "      <td>80.502929</td>\n",
              "      <td>14-02-2022</td>\n",
              "      <td>19:50</td>\n",
              "      <td>20:05</td>\n",
              "      <td>Fog</td>\n",
              "      <td>Jam</td>\n",
              "      <td>1</td>\n",
              "      <td>Snack</td>\n",
              "      <td>scooter</td>\n",
              "      <td>1.0</td>\n",
              "      <td>No</td>\n",
              "      <td>Metropolitian</td>\n",
              "      <td>41</td>\n",
              "    </tr>\n",
              "  </tbody>\n",
              "</table>\n",
              "</div>"
            ],
            "text/plain": [
              "       ID Delivery_person_ID  Delivery_person_Age  Delivery_person_Ratings  \\\n",
              "0  0xcdcd      DEHRES17DEL01                 36.0                      4.2   \n",
              "1  0xd987      KOCRES16DEL01                 21.0                      4.7   \n",
              "2  0x2784     PUNERES13DEL03                 23.0                      4.7   \n",
              "3  0xc8b6     LUDHRES15DEL02                 34.0                      4.3   \n",
              "4  0xdb64      KNPRES14DEL02                 24.0                      4.7   \n",
              "\n",
              "   Restaurant_latitude  Restaurant_longitude  Delivery_location_latitude  \\\n",
              "0            30.327968             78.046106                   30.397968   \n",
              "1            10.003064             76.307589                   10.043064   \n",
              "2            18.562450             73.916619                   18.652450   \n",
              "3            30.899584             75.809346                   30.919584   \n",
              "4            26.463504             80.372929                   26.593504   \n",
              "\n",
              "   Delivery_location_longitude  Order_Date Time_Orderd Time_Order_picked  \\\n",
              "0                    78.116106  12-02-2022       21:55             22:10   \n",
              "1                    76.347589  13-02-2022       14:55             15:05   \n",
              "2                    74.006619  04-03-2022       17:30             17:40   \n",
              "3                    75.829346  13-02-2022       09:20             09:30   \n",
              "4                    80.502929  14-02-2022       19:50             20:05   \n",
              "\n",
              "  Weather_conditions Road_traffic_density  Vehicle_condition Type_of_order  \\\n",
              "0                Fog                  Jam                  2         Snack   \n",
              "1             Stormy                 High                  1          Meal   \n",
              "2         Sandstorms               Medium                  1        Drinks   \n",
              "3         Sandstorms                  Low                  0        Buffet   \n",
              "4                Fog                  Jam                  1         Snack   \n",
              "\n",
              "  Type_of_vehicle  multiple_deliveries Festival           City  \\\n",
              "0      motorcycle                  3.0       No  Metropolitian   \n",
              "1      motorcycle                  1.0       No  Metropolitian   \n",
              "2         scooter                  1.0       No  Metropolitian   \n",
              "3      motorcycle                  0.0       No  Metropolitian   \n",
              "4         scooter                  1.0       No  Metropolitian   \n",
              "\n",
              "   Time_taken (min)  \n",
              "0                46  \n",
              "1                23  \n",
              "2                21  \n",
              "3                20  \n",
              "4                41  "
            ]
          },
          "metadata": {},
          "output_type": "display_data"
        }
      ],
      "source": [
        "import pandas as pd\n",
        "\n",
        "df = pd.read_csv(r'Datasets\\Zomato Dataset.csv')\n",
        "display(df.head())"
      ]
    },
    {
      "cell_type": "markdown",
      "metadata": {
        "id": "d5e58b08"
      },
      "source": [
        "## Identify missing values\n",
        "\n",
        "### Subtask:\n",
        "Check for and quantify missing values in the DataFrame.\n"
      ]
    },
    {
      "cell_type": "markdown",
      "metadata": {
        "id": "431a51f4"
      },
      "source": [
        "**Reasoning**:\n",
        "Calculate and display the number of missing values for each column in the DataFrame.\n",
        "\n"
      ]
    },
    {
      "cell_type": "code",
      "execution_count": 10,
      "metadata": {
        "colab": {
          "base_uri": "https://localhost:8080/",
          "height": 711
        },
        "id": "029f65f4",
        "outputId": "d7346a2d-daa1-4c06-e950-f8da99f5f7c5"
      },
      "outputs": [
        {
          "data": {
            "application/vnd.microsoft.datawrangler.viewer.v0+json": {
              "columns": [
                {
                  "name": "index",
                  "rawType": "object",
                  "type": "string"
                },
                {
                  "name": "0",
                  "rawType": "int64",
                  "type": "integer"
                }
              ],
              "ref": "4058e629-ca3b-4490-aed0-442faa7d7d6b",
              "rows": [
                [
                  "ID",
                  "0"
                ],
                [
                  "Delivery_person_ID",
                  "0"
                ],
                [
                  "Delivery_person_Age",
                  "1854"
                ],
                [
                  "Delivery_person_Ratings",
                  "1908"
                ],
                [
                  "Restaurant_latitude",
                  "0"
                ],
                [
                  "Restaurant_longitude",
                  "0"
                ],
                [
                  "Delivery_location_latitude",
                  "0"
                ],
                [
                  "Delivery_location_longitude",
                  "0"
                ],
                [
                  "Order_Date",
                  "0"
                ],
                [
                  "Time_Orderd",
                  "1731"
                ],
                [
                  "Time_Order_picked",
                  "0"
                ],
                [
                  "Weather_conditions",
                  "616"
                ],
                [
                  "Road_traffic_density",
                  "601"
                ],
                [
                  "Vehicle_condition",
                  "0"
                ],
                [
                  "Type_of_order",
                  "0"
                ],
                [
                  "Type_of_vehicle",
                  "0"
                ],
                [
                  "multiple_deliveries",
                  "993"
                ],
                [
                  "Festival",
                  "228"
                ],
                [
                  "City",
                  "1200"
                ],
                [
                  "Time_taken (min)",
                  "0"
                ]
              ],
              "shape": {
                "columns": 1,
                "rows": 20
              }
            },
            "text/plain": [
              "ID                                0\n",
              "Delivery_person_ID                0\n",
              "Delivery_person_Age            1854\n",
              "Delivery_person_Ratings        1908\n",
              "Restaurant_latitude               0\n",
              "Restaurant_longitude              0\n",
              "Delivery_location_latitude        0\n",
              "Delivery_location_longitude       0\n",
              "Order_Date                        0\n",
              "Time_Orderd                    1731\n",
              "Time_Order_picked                 0\n",
              "Weather_conditions              616\n",
              "Road_traffic_density            601\n",
              "Vehicle_condition                 0\n",
              "Type_of_order                     0\n",
              "Type_of_vehicle                   0\n",
              "multiple_deliveries             993\n",
              "Festival                        228\n",
              "City                           1200\n",
              "Time_taken (min)                  0\n",
              "dtype: int64"
            ]
          },
          "metadata": {},
          "output_type": "display_data"
        }
      ],
      "source": [
        "missing_values = df.isnull().sum()\n",
        "display(missing_values)"
      ]
    },
    {
      "cell_type": "markdown",
      "metadata": {
        "id": "cca664f8"
      },
      "source": [
        "## Handle missing values\n",
        "\n",
        "### Subtask:\n",
        "Implement a strategy to handle the identified missing values (e.g., imputation or removal).\n"
      ]
    },
    {
      "cell_type": "markdown",
      "metadata": {
        "id": "1062bf65"
      },
      "source": [
        "**Reasoning**:\n",
        "Implement the strategy to handle missing values by filling them with appropriate central tendencies or modes for each specified column and then verify that all missing values have been handled.\n",
        "\n"
      ]
    },
    {
      "cell_type": "code",
      "execution_count": 11,
      "metadata": {
        "colab": {
          "base_uri": "https://localhost:8080/",
          "height": 1000
        },
        "id": "6620f702",
        "outputId": "d77ba367-357d-44d4-e008-975886c43525"
      },
      "outputs": [
        {
          "name": "stderr",
          "output_type": "stream",
          "text": [
            "C:\\Users\\Shamshuddeen\\AppData\\Local\\Temp\\ipykernel_34144\\1299214011.py:3: FutureWarning: A value is trying to be set on a copy of a DataFrame or Series through chained assignment using an inplace method.\n",
            "The behavior will change in pandas 3.0. This inplace method will never work because the intermediate object on which we are setting values always behaves as a copy.\n",
            "\n",
            "For example, when doing 'df[col].method(value, inplace=True)', try using 'df.method({col: value}, inplace=True)' or df[col] = df[col].method(value) instead, to perform the operation inplace on the original object.\n",
            "\n",
            "\n",
            "  df['Delivery_person_Age'].fillna(median_age, inplace=True)\n",
            "C:\\Users\\Shamshuddeen\\AppData\\Local\\Temp\\ipykernel_34144\\1299214011.py:7: FutureWarning: A value is trying to be set on a copy of a DataFrame or Series through chained assignment using an inplace method.\n",
            "The behavior will change in pandas 3.0. This inplace method will never work because the intermediate object on which we are setting values always behaves as a copy.\n",
            "\n",
            "For example, when doing 'df[col].method(value, inplace=True)', try using 'df.method({col: value}, inplace=True)' or df[col] = df[col].method(value) instead, to perform the operation inplace on the original object.\n",
            "\n",
            "\n",
            "  df['Delivery_person_Ratings'].fillna(mean_ratings, inplace=True)\n",
            "C:\\Users\\Shamshuddeen\\AppData\\Local\\Temp\\ipykernel_34144\\1299214011.py:11: FutureWarning: A value is trying to be set on a copy of a DataFrame or Series through chained assignment using an inplace method.\n",
            "The behavior will change in pandas 3.0. This inplace method will never work because the intermediate object on which we are setting values always behaves as a copy.\n",
            "\n",
            "For example, when doing 'df[col].method(value, inplace=True)', try using 'df.method({col: value}, inplace=True)' or df[col] = df[col].method(value) instead, to perform the operation inplace on the original object.\n",
            "\n",
            "\n",
            "  df['multiple_deliveries'].fillna(mode_multiple_deliveries, inplace=True)\n",
            "C:\\Users\\Shamshuddeen\\AppData\\Local\\Temp\\ipykernel_34144\\1299214011.py:16: FutureWarning: A value is trying to be set on a copy of a DataFrame or Series through chained assignment using an inplace method.\n",
            "The behavior will change in pandas 3.0. This inplace method will never work because the intermediate object on which we are setting values always behaves as a copy.\n",
            "\n",
            "For example, when doing 'df[col].method(value, inplace=True)', try using 'df.method({col: value}, inplace=True)' or df[col] = df[col].method(value) instead, to perform the operation inplace on the original object.\n",
            "\n",
            "\n",
            "  df[col].fillna(mode_value, inplace=True)\n"
          ]
        },
        {
          "data": {
            "application/vnd.microsoft.datawrangler.viewer.v0+json": {
              "columns": [
                {
                  "name": "index",
                  "rawType": "object",
                  "type": "string"
                },
                {
                  "name": "0",
                  "rawType": "int64",
                  "type": "integer"
                }
              ],
              "ref": "0dd734f1-780d-428d-a7ca-e840eda0ac70",
              "rows": [
                [
                  "ID",
                  "0"
                ],
                [
                  "Delivery_person_ID",
                  "0"
                ],
                [
                  "Delivery_person_Age",
                  "0"
                ],
                [
                  "Delivery_person_Ratings",
                  "0"
                ],
                [
                  "Restaurant_latitude",
                  "0"
                ],
                [
                  "Restaurant_longitude",
                  "0"
                ],
                [
                  "Delivery_location_latitude",
                  "0"
                ],
                [
                  "Delivery_location_longitude",
                  "0"
                ],
                [
                  "Order_Date",
                  "0"
                ],
                [
                  "Time_Orderd",
                  "0"
                ],
                [
                  "Time_Order_picked",
                  "0"
                ],
                [
                  "Weather_conditions",
                  "0"
                ],
                [
                  "Road_traffic_density",
                  "0"
                ],
                [
                  "Vehicle_condition",
                  "0"
                ],
                [
                  "Type_of_order",
                  "0"
                ],
                [
                  "Type_of_vehicle",
                  "0"
                ],
                [
                  "multiple_deliveries",
                  "0"
                ],
                [
                  "Festival",
                  "0"
                ],
                [
                  "City",
                  "0"
                ],
                [
                  "Time_taken (min)",
                  "0"
                ]
              ],
              "shape": {
                "columns": 1,
                "rows": 20
              }
            },
            "text/plain": [
              "ID                             0\n",
              "Delivery_person_ID             0\n",
              "Delivery_person_Age            0\n",
              "Delivery_person_Ratings        0\n",
              "Restaurant_latitude            0\n",
              "Restaurant_longitude           0\n",
              "Delivery_location_latitude     0\n",
              "Delivery_location_longitude    0\n",
              "Order_Date                     0\n",
              "Time_Orderd                    0\n",
              "Time_Order_picked              0\n",
              "Weather_conditions             0\n",
              "Road_traffic_density           0\n",
              "Vehicle_condition              0\n",
              "Type_of_order                  0\n",
              "Type_of_vehicle                0\n",
              "multiple_deliveries            0\n",
              "Festival                       0\n",
              "City                           0\n",
              "Time_taken (min)               0\n",
              "dtype: int64"
            ]
          },
          "metadata": {},
          "output_type": "display_data"
        }
      ],
      "source": [
        "# 1. Fill missing values in the 'Delivery_person_Age' column with the median age.\n",
        "median_age = df['Delivery_person_Age'].median()\n",
        "df['Delivery_person_Age'].fillna(median_age, inplace=True)\n",
        "\n",
        "# 2. Fill missing values in the 'Delivery_person_Ratings' column with the mean rating.\n",
        "mean_ratings = df['Delivery_person_Ratings'].mean()\n",
        "df['Delivery_person_Ratings'].fillna(mean_ratings, inplace=True)\n",
        "\n",
        "# 3. Fill missing values in the 'multiple_deliveries' column with the mode.\n",
        "mode_multiple_deliveries = df['multiple_deliveries'].mode()[0]\n",
        "df['multiple_deliveries'].fillna(mode_multiple_deliveries, inplace=True)\n",
        "\n",
        "# 4. Fill missing values in 'Time_Orderd', 'Weather_conditions', 'Road_traffic_density', 'Festival', and 'City' with the most frequent value (mode) for each respective column.\n",
        "for col in ['Time_Orderd', 'Weather_conditions', 'Road_traffic_density', 'Festival', 'City']:\n",
        "    mode_value = df[col].mode()[0]\n",
        "    df[col].fillna(mode_value, inplace=True)\n",
        "\n",
        "# 5. Verify that all missing values have been handled by checking the sum of nulls for each column.\n",
        "missing_values_after_handling = df.isnull().sum()\n",
        "display(missing_values_after_handling)"
      ]
    },
    {
      "cell_type": "markdown",
      "metadata": {
        "id": "62f19a88"
      },
      "source": [
        "## Identify outliers\n",
        "\n",
        "### Subtask:\n",
        "Detect outliers in the relevant columns using appropriate methods (e.g., z-scores, IQR).\n"
      ]
    },
    {
      "cell_type": "markdown",
      "metadata": {
        "id": "cced0531"
      },
      "source": [
        "**Reasoning**:\n",
        "Calculate the IQR and bounds for the selected numerical columns and count the outliers.\n",
        "\n"
      ]
    },
    {
      "cell_type": "code",
      "execution_count": 12,
      "metadata": {
        "colab": {
          "base_uri": "https://localhost:8080/",
          "height": 90
        },
        "id": "4179ab42",
        "outputId": "1199af60-cc26-4a70-9939-d144272cb88c"
      },
      "outputs": [
        {
          "data": {
            "text/plain": [
              "{'Delivery_person_Age': 53,\n",
              " 'Delivery_person_Ratings': 5345,\n",
              " 'multiple_deliveries': 361,\n",
              " 'Time_taken (min)': 270}"
            ]
          },
          "metadata": {},
          "output_type": "display_data"
        }
      ],
      "source": [
        "import numpy as np\n",
        "\n",
        "selected_columns = ['Delivery_person_Age', 'Delivery_person_Ratings', 'multiple_deliveries', 'Time_taken (min)']\n",
        "outliers_count = {}\n",
        "\n",
        "for col in selected_columns:\n",
        "    Q1 = df[col].quantile(0.25)\n",
        "    Q3 = df[col].quantile(0.75)\n",
        "    IQR = Q3 - Q1\n",
        "\n",
        "    lower_bound = Q1 - 1.5 * IQR\n",
        "    upper_bound = Q3 + 1.5 * IQR\n",
        "\n",
        "    outliers = df[(df[col] < lower_bound) | (df[col] > upper_bound)]\n",
        "    outliers_count[col] = len(outliers)\n",
        "\n",
        "display(outliers_count)"
      ]
    },
    {
      "cell_type": "markdown",
      "metadata": {
        "id": "8739d91d"
      },
      "source": [
        "## Handle outliers\n",
        "\n",
        "### Subtask:\n",
        "Address the identified outliers (e.g., capping, removal, or transformation).\n"
      ]
    },
    {
      "cell_type": "markdown",
      "metadata": {
        "id": "e1b0f785"
      },
      "source": [
        "**Reasoning**:\n",
        "Cap the outliers in the specified columns using the calculated lower and upper bounds.\n",
        "\n"
      ]
    },
    {
      "cell_type": "code",
      "execution_count": 13,
      "metadata": {
        "colab": {
          "base_uri": "https://localhost:8080/",
          "height": 300
        },
        "id": "48c68613",
        "outputId": "8e3997da-1e9f-4743-e13f-4b02d0c238fb"
      },
      "outputs": [
        {
          "data": {
            "application/vnd.microsoft.datawrangler.viewer.v0+json": {
              "columns": [
                {
                  "name": "index",
                  "rawType": "object",
                  "type": "string"
                },
                {
                  "name": "Delivery_person_Age",
                  "rawType": "float64",
                  "type": "float"
                },
                {
                  "name": "Delivery_person_Ratings",
                  "rawType": "float64",
                  "type": "float"
                },
                {
                  "name": "multiple_deliveries",
                  "rawType": "float64",
                  "type": "float"
                },
                {
                  "name": "Time_taken (min)",
                  "rawType": "float64",
                  "type": "float"
                }
              ],
              "ref": "2af6dab8-f4e5-42d1-a0a5-4b535b529944",
              "rows": [
                [
                  "count",
                  "45584.0",
                  "45584.0",
                  "45584.0",
                  "45584.0"
                ],
                [
                  "mean",
                  "29.58161855036855",
                  "4.673096705298028",
                  "0.746237714987715",
                  "26.28481484731485"
                ],
                [
                  "std",
                  "5.686431202217174",
                  "0.2142590066672123",
                  "0.5533205098342",
                  "9.358735845056282"
                ],
                [
                  "min",
                  "15.0",
                  "4.299999999999999",
                  "0.0",
                  "10.0"
                ],
                [
                  "25%",
                  "25.0",
                  "4.6",
                  "0.0",
                  "19.0"
                ],
                [
                  "50%",
                  "30.0",
                  "4.7",
                  "1.0",
                  "26.0"
                ],
                [
                  "75%",
                  "34.0",
                  "4.8",
                  "1.0",
                  "32.0"
                ],
                [
                  "max",
                  "47.5",
                  "5.1",
                  "2.5",
                  "51.5"
                ]
              ],
              "shape": {
                "columns": 4,
                "rows": 8
              }
            },
            "text/html": [
              "<div>\n",
              "<style scoped>\n",
              "    .dataframe tbody tr th:only-of-type {\n",
              "        vertical-align: middle;\n",
              "    }\n",
              "\n",
              "    .dataframe tbody tr th {\n",
              "        vertical-align: top;\n",
              "    }\n",
              "\n",
              "    .dataframe thead th {\n",
              "        text-align: right;\n",
              "    }\n",
              "</style>\n",
              "<table border=\"1\" class=\"dataframe\">\n",
              "  <thead>\n",
              "    <tr style=\"text-align: right;\">\n",
              "      <th></th>\n",
              "      <th>Delivery_person_Age</th>\n",
              "      <th>Delivery_person_Ratings</th>\n",
              "      <th>multiple_deliveries</th>\n",
              "      <th>Time_taken (min)</th>\n",
              "    </tr>\n",
              "  </thead>\n",
              "  <tbody>\n",
              "    <tr>\n",
              "      <th>count</th>\n",
              "      <td>45584.000000</td>\n",
              "      <td>45584.000000</td>\n",
              "      <td>45584.000000</td>\n",
              "      <td>45584.000000</td>\n",
              "    </tr>\n",
              "    <tr>\n",
              "      <th>mean</th>\n",
              "      <td>29.581619</td>\n",
              "      <td>4.673097</td>\n",
              "      <td>0.746238</td>\n",
              "      <td>26.284815</td>\n",
              "    </tr>\n",
              "    <tr>\n",
              "      <th>std</th>\n",
              "      <td>5.686431</td>\n",
              "      <td>0.214259</td>\n",
              "      <td>0.553321</td>\n",
              "      <td>9.358736</td>\n",
              "    </tr>\n",
              "    <tr>\n",
              "      <th>min</th>\n",
              "      <td>15.000000</td>\n",
              "      <td>4.300000</td>\n",
              "      <td>0.000000</td>\n",
              "      <td>10.000000</td>\n",
              "    </tr>\n",
              "    <tr>\n",
              "      <th>25%</th>\n",
              "      <td>25.000000</td>\n",
              "      <td>4.600000</td>\n",
              "      <td>0.000000</td>\n",
              "      <td>19.000000</td>\n",
              "    </tr>\n",
              "    <tr>\n",
              "      <th>50%</th>\n",
              "      <td>30.000000</td>\n",
              "      <td>4.700000</td>\n",
              "      <td>1.000000</td>\n",
              "      <td>26.000000</td>\n",
              "    </tr>\n",
              "    <tr>\n",
              "      <th>75%</th>\n",
              "      <td>34.000000</td>\n",
              "      <td>4.800000</td>\n",
              "      <td>1.000000</td>\n",
              "      <td>32.000000</td>\n",
              "    </tr>\n",
              "    <tr>\n",
              "      <th>max</th>\n",
              "      <td>47.500000</td>\n",
              "      <td>5.100000</td>\n",
              "      <td>2.500000</td>\n",
              "      <td>51.500000</td>\n",
              "    </tr>\n",
              "  </tbody>\n",
              "</table>\n",
              "</div>"
            ],
            "text/plain": [
              "       Delivery_person_Age  Delivery_person_Ratings  multiple_deliveries  \\\n",
              "count         45584.000000             45584.000000         45584.000000   \n",
              "mean             29.581619                 4.673097             0.746238   \n",
              "std               5.686431                 0.214259             0.553321   \n",
              "min              15.000000                 4.300000             0.000000   \n",
              "25%              25.000000                 4.600000             0.000000   \n",
              "50%              30.000000                 4.700000             1.000000   \n",
              "75%              34.000000                 4.800000             1.000000   \n",
              "max              47.500000                 5.100000             2.500000   \n",
              "\n",
              "       Time_taken (min)  \n",
              "count      45584.000000  \n",
              "mean          26.284815  \n",
              "std            9.358736  \n",
              "min           10.000000  \n",
              "25%           19.000000  \n",
              "50%           26.000000  \n",
              "75%           32.000000  \n",
              "max           51.500000  "
            ]
          },
          "metadata": {},
          "output_type": "display_data"
        }
      ],
      "source": [
        "selected_columns = ['Delivery_person_Age', 'Delivery_person_Ratings', 'multiple_deliveries', 'Time_taken (min)']\n",
        "\n",
        "for col in selected_columns:\n",
        "    Q1 = df[col].quantile(0.25)\n",
        "    Q3 = df[col].quantile(0.75)\n",
        "    IQR = Q3 - Q1\n",
        "\n",
        "    lower_bound = Q1 - 1.5 * IQR\n",
        "    upper_bound = Q3 + 1.5 * IQR\n",
        "\n",
        "    df[col] = df[col].apply(lambda x: upper_bound if x > upper_bound else (lower_bound if x < lower_bound else x))\n",
        "\n",
        "# Verify the capping by checking the descriptive statistics\n",
        "display(df[selected_columns].describe())"
      ]
    },
    {
      "cell_type": "markdown",
      "metadata": {
        "id": "55c170c9"
      },
      "source": [
        "## Data transformation\n",
        "\n",
        "### Subtask:\n",
        "Apply necessary transformations to numerical or categorical features (e.g., scaling, encoding).\n"
      ]
    },
    {
      "cell_type": "markdown",
      "metadata": {
        "id": "d6650986"
      },
      "source": [
        "**Reasoning**:\n",
        "Identify categorical and numerical columns, apply one-hot encoding to categorical columns, and scale numerical columns using StandardScaler.\n",
        "\n"
      ]
    },
    {
      "cell_type": "code",
      "execution_count": 16,
      "metadata": {
        "colab": {
          "base_uri": "https://localhost:8080/",
          "height": 980
        },
        "id": "a9d6aa7d",
        "outputId": "6daaffec-9366-4dca-b7d5-1325c7c06184"
      },
      "outputs": [
        {
          "data": {
            "application/vnd.microsoft.datawrangler.viewer.v0+json": {
              "columns": [
                {
                  "name": "index",
                  "rawType": "int64",
                  "type": "integer"
                },
                {
                  "name": "ID",
                  "rawType": "object",
                  "type": "string"
                },
                {
                  "name": "Delivery_person_ID",
                  "rawType": "object",
                  "type": "string"
                },
                {
                  "name": "Delivery_person_Age",
                  "rawType": "float64",
                  "type": "float"
                },
                {
                  "name": "Delivery_person_Ratings",
                  "rawType": "float64",
                  "type": "float"
                },
                {
                  "name": "Restaurant_latitude",
                  "rawType": "float64",
                  "type": "float"
                },
                {
                  "name": "Restaurant_longitude",
                  "rawType": "float64",
                  "type": "float"
                },
                {
                  "name": "Delivery_location_latitude",
                  "rawType": "float64",
                  "type": "float"
                },
                {
                  "name": "Delivery_location_longitude",
                  "rawType": "float64",
                  "type": "float"
                },
                {
                  "name": "Order_Date",
                  "rawType": "object",
                  "type": "string"
                },
                {
                  "name": "Time_Orderd",
                  "rawType": "object",
                  "type": "string"
                },
                {
                  "name": "Time_Order_picked",
                  "rawType": "object",
                  "type": "string"
                },
                {
                  "name": "Vehicle_condition",
                  "rawType": "float64",
                  "type": "float"
                },
                {
                  "name": "multiple_deliveries",
                  "rawType": "float64",
                  "type": "float"
                },
                {
                  "name": "Time_taken (min)",
                  "rawType": "float64",
                  "type": "float"
                },
                {
                  "name": "Weather_conditions_Fog",
                  "rawType": "bool",
                  "type": "boolean"
                },
                {
                  "name": "Weather_conditions_Sandstorms",
                  "rawType": "bool",
                  "type": "boolean"
                },
                {
                  "name": "Weather_conditions_Stormy",
                  "rawType": "bool",
                  "type": "boolean"
                },
                {
                  "name": "Weather_conditions_Sunny",
                  "rawType": "bool",
                  "type": "boolean"
                },
                {
                  "name": "Weather_conditions_Windy",
                  "rawType": "bool",
                  "type": "boolean"
                },
                {
                  "name": "Road_traffic_density_Jam",
                  "rawType": "bool",
                  "type": "boolean"
                },
                {
                  "name": "Road_traffic_density_Low",
                  "rawType": "bool",
                  "type": "boolean"
                },
                {
                  "name": "Road_traffic_density_Medium",
                  "rawType": "bool",
                  "type": "boolean"
                },
                {
                  "name": "Type_of_order_Drinks",
                  "rawType": "bool",
                  "type": "boolean"
                },
                {
                  "name": "Type_of_order_Meal",
                  "rawType": "bool",
                  "type": "boolean"
                },
                {
                  "name": "Type_of_order_Snack",
                  "rawType": "bool",
                  "type": "boolean"
                },
                {
                  "name": "Type_of_vehicle_electric_scooter",
                  "rawType": "bool",
                  "type": "boolean"
                },
                {
                  "name": "Type_of_vehicle_motorcycle",
                  "rawType": "bool",
                  "type": "boolean"
                },
                {
                  "name": "Type_of_vehicle_scooter",
                  "rawType": "bool",
                  "type": "boolean"
                },
                {
                  "name": "Festival_Yes",
                  "rawType": "bool",
                  "type": "boolean"
                },
                {
                  "name": "City_Semi-Urban",
                  "rawType": "bool",
                  "type": "boolean"
                },
                {
                  "name": "City_Urban",
                  "rawType": "bool",
                  "type": "boolean"
                }
              ],
              "ref": "a95702cf-b02d-402d-bf9f-43d0259a61e8",
              "rows": [
                [
                  "0",
                  "0xcdcd",
                  "DEHRES17DEL01",
                  "36.0",
                  "4.299999999999999",
                  "1.626031767006513",
                  "0.34154736485552584",
                  "1.7630047446258654",
                  "0.34430993143069305",
                  "12-02-2022",
                  "21:55",
                  "22:10",
                  "1.1639580342282916",
                  "2.5",
                  "46.0",
                  "True",
                  "False",
                  "False",
                  "False",
                  "False",
                  "True",
                  "False",
                  "False",
                  "False",
                  "False",
                  "True",
                  "False",
                  "True",
                  "False",
                  "False",
                  "False",
                  "False"
                ],
                [
                  "1",
                  "0xd987",
                  "KOCRES16DEL01",
                  "21.0",
                  "4.7",
                  "-0.8569803208488501",
                  "0.2655809065068662",
                  "-1.0118512526001848",
                  "0.2605747052582105",
                  "13-02-2022",
                  "14:55",
                  "15:05",
                  "-0.02787140627358286",
                  "1.0",
                  "23.0",
                  "False",
                  "False",
                  "True",
                  "False",
                  "False",
                  "False",
                  "False",
                  "False",
                  "False",
                  "True",
                  "False",
                  "False",
                  "True",
                  "False",
                  "False",
                  "False",
                  "False"
                ],
                [
                  "2",
                  "0x2784",
                  "PUNERES13DEL03",
                  "23.0",
                  "4.7",
                  "0.18868557270813602",
                  "0.16110477948717405",
                  "0.1618121738907485",
                  "0.14973514170694363",
                  "04-03-2022",
                  "17:30",
                  "17:40",
                  "-0.02787140627358286",
                  "1.0",
                  "21.0",
                  "False",
                  "True",
                  "False",
                  "False",
                  "False",
                  "False",
                  "False",
                  "True",
                  "True",
                  "False",
                  "False",
                  "False",
                  "False",
                  "True",
                  "False",
                  "False",
                  "False"
                ],
                [
                  "3",
                  "0xc8b6",
                  "LUDHRES15DEL02",
                  "34.0",
                  "4.3",
                  "1.6958638034880402",
                  "0.24380961746740887",
                  "1.8341133721020288",
                  "0.23603708711978968",
                  "13-02-2022",
                  "09:20",
                  "09:30",
                  "-1.2197008467754573",
                  "0.0",
                  "20.0",
                  "False",
                  "True",
                  "False",
                  "False",
                  "False",
                  "False",
                  "True",
                  "False",
                  "False",
                  "False",
                  "False",
                  "False",
                  "True",
                  "False",
                  "False",
                  "False",
                  "False"
                ],
                [
                  "4",
                  "0xdb64",
                  "KNPRES14DEL02",
                  "24.0",
                  "4.7",
                  "1.1539256835001956",
                  "0.44322051646359373",
                  "1.2443661037052005",
                  "0.4573205294281577",
                  "14-02-2022",
                  "19:50",
                  "20:05",
                  "-0.02787140627358286",
                  "1.0",
                  "41.0",
                  "True",
                  "False",
                  "False",
                  "False",
                  "False",
                  "True",
                  "False",
                  "False",
                  "False",
                  "False",
                  "True",
                  "False",
                  "False",
                  "True",
                  "False",
                  "False",
                  "False"
                ]
              ],
              "shape": {
                "columns": 31,
                "rows": 5
              }
            },
            "text/html": [
              "<div>\n",
              "<style scoped>\n",
              "    .dataframe tbody tr th:only-of-type {\n",
              "        vertical-align: middle;\n",
              "    }\n",
              "\n",
              "    .dataframe tbody tr th {\n",
              "        vertical-align: top;\n",
              "    }\n",
              "\n",
              "    .dataframe thead th {\n",
              "        text-align: right;\n",
              "    }\n",
              "</style>\n",
              "<table border=\"1\" class=\"dataframe\">\n",
              "  <thead>\n",
              "    <tr style=\"text-align: right;\">\n",
              "      <th></th>\n",
              "      <th>ID</th>\n",
              "      <th>Delivery_person_ID</th>\n",
              "      <th>Delivery_person_Age</th>\n",
              "      <th>Delivery_person_Ratings</th>\n",
              "      <th>Restaurant_latitude</th>\n",
              "      <th>Restaurant_longitude</th>\n",
              "      <th>Delivery_location_latitude</th>\n",
              "      <th>Delivery_location_longitude</th>\n",
              "      <th>Order_Date</th>\n",
              "      <th>Time_Orderd</th>\n",
              "      <th>...</th>\n",
              "      <th>Road_traffic_density_Medium</th>\n",
              "      <th>Type_of_order_Drinks</th>\n",
              "      <th>Type_of_order_Meal</th>\n",
              "      <th>Type_of_order_Snack</th>\n",
              "      <th>Type_of_vehicle_electric_scooter</th>\n",
              "      <th>Type_of_vehicle_motorcycle</th>\n",
              "      <th>Type_of_vehicle_scooter</th>\n",
              "      <th>Festival_Yes</th>\n",
              "      <th>City_Semi-Urban</th>\n",
              "      <th>City_Urban</th>\n",
              "    </tr>\n",
              "  </thead>\n",
              "  <tbody>\n",
              "    <tr>\n",
              "      <th>0</th>\n",
              "      <td>0xcdcd</td>\n",
              "      <td>DEHRES17DEL01</td>\n",
              "      <td>36.0</td>\n",
              "      <td>4.3</td>\n",
              "      <td>1.626032</td>\n",
              "      <td>0.341547</td>\n",
              "      <td>1.763005</td>\n",
              "      <td>0.344310</td>\n",
              "      <td>12-02-2022</td>\n",
              "      <td>21:55</td>\n",
              "      <td>...</td>\n",
              "      <td>False</td>\n",
              "      <td>False</td>\n",
              "      <td>False</td>\n",
              "      <td>True</td>\n",
              "      <td>False</td>\n",
              "      <td>True</td>\n",
              "      <td>False</td>\n",
              "      <td>False</td>\n",
              "      <td>False</td>\n",
              "      <td>False</td>\n",
              "    </tr>\n",
              "    <tr>\n",
              "      <th>1</th>\n",
              "      <td>0xd987</td>\n",
              "      <td>KOCRES16DEL01</td>\n",
              "      <td>21.0</td>\n",
              "      <td>4.7</td>\n",
              "      <td>-0.856980</td>\n",
              "      <td>0.265581</td>\n",
              "      <td>-1.011851</td>\n",
              "      <td>0.260575</td>\n",
              "      <td>13-02-2022</td>\n",
              "      <td>14:55</td>\n",
              "      <td>...</td>\n",
              "      <td>False</td>\n",
              "      <td>False</td>\n",
              "      <td>True</td>\n",
              "      <td>False</td>\n",
              "      <td>False</td>\n",
              "      <td>True</td>\n",
              "      <td>False</td>\n",
              "      <td>False</td>\n",
              "      <td>False</td>\n",
              "      <td>False</td>\n",
              "    </tr>\n",
              "    <tr>\n",
              "      <th>2</th>\n",
              "      <td>0x2784</td>\n",
              "      <td>PUNERES13DEL03</td>\n",
              "      <td>23.0</td>\n",
              "      <td>4.7</td>\n",
              "      <td>0.188686</td>\n",
              "      <td>0.161105</td>\n",
              "      <td>0.161812</td>\n",
              "      <td>0.149735</td>\n",
              "      <td>04-03-2022</td>\n",
              "      <td>17:30</td>\n",
              "      <td>...</td>\n",
              "      <td>True</td>\n",
              "      <td>True</td>\n",
              "      <td>False</td>\n",
              "      <td>False</td>\n",
              "      <td>False</td>\n",
              "      <td>False</td>\n",
              "      <td>True</td>\n",
              "      <td>False</td>\n",
              "      <td>False</td>\n",
              "      <td>False</td>\n",
              "    </tr>\n",
              "    <tr>\n",
              "      <th>3</th>\n",
              "      <td>0xc8b6</td>\n",
              "      <td>LUDHRES15DEL02</td>\n",
              "      <td>34.0</td>\n",
              "      <td>4.3</td>\n",
              "      <td>1.695864</td>\n",
              "      <td>0.243810</td>\n",
              "      <td>1.834113</td>\n",
              "      <td>0.236037</td>\n",
              "      <td>13-02-2022</td>\n",
              "      <td>09:20</td>\n",
              "      <td>...</td>\n",
              "      <td>False</td>\n",
              "      <td>False</td>\n",
              "      <td>False</td>\n",
              "      <td>False</td>\n",
              "      <td>False</td>\n",
              "      <td>True</td>\n",
              "      <td>False</td>\n",
              "      <td>False</td>\n",
              "      <td>False</td>\n",
              "      <td>False</td>\n",
              "    </tr>\n",
              "    <tr>\n",
              "      <th>4</th>\n",
              "      <td>0xdb64</td>\n",
              "      <td>KNPRES14DEL02</td>\n",
              "      <td>24.0</td>\n",
              "      <td>4.7</td>\n",
              "      <td>1.153926</td>\n",
              "      <td>0.443221</td>\n",
              "      <td>1.244366</td>\n",
              "      <td>0.457321</td>\n",
              "      <td>14-02-2022</td>\n",
              "      <td>19:50</td>\n",
              "      <td>...</td>\n",
              "      <td>False</td>\n",
              "      <td>False</td>\n",
              "      <td>False</td>\n",
              "      <td>True</td>\n",
              "      <td>False</td>\n",
              "      <td>False</td>\n",
              "      <td>True</td>\n",
              "      <td>False</td>\n",
              "      <td>False</td>\n",
              "      <td>False</td>\n",
              "    </tr>\n",
              "  </tbody>\n",
              "</table>\n",
              "<p>5 rows × 31 columns</p>\n",
              "</div>"
            ],
            "text/plain": [
              "       ID Delivery_person_ID  Delivery_person_Age  Delivery_person_Ratings  \\\n",
              "0  0xcdcd      DEHRES17DEL01                 36.0                      4.3   \n",
              "1  0xd987      KOCRES16DEL01                 21.0                      4.7   \n",
              "2  0x2784     PUNERES13DEL03                 23.0                      4.7   \n",
              "3  0xc8b6     LUDHRES15DEL02                 34.0                      4.3   \n",
              "4  0xdb64      KNPRES14DEL02                 24.0                      4.7   \n",
              "\n",
              "   Restaurant_latitude  Restaurant_longitude  Delivery_location_latitude  \\\n",
              "0             1.626032              0.341547                    1.763005   \n",
              "1            -0.856980              0.265581                   -1.011851   \n",
              "2             0.188686              0.161105                    0.161812   \n",
              "3             1.695864              0.243810                    1.834113   \n",
              "4             1.153926              0.443221                    1.244366   \n",
              "\n",
              "   Delivery_location_longitude  Order_Date Time_Orderd  ...  \\\n",
              "0                     0.344310  12-02-2022       21:55  ...   \n",
              "1                     0.260575  13-02-2022       14:55  ...   \n",
              "2                     0.149735  04-03-2022       17:30  ...   \n",
              "3                     0.236037  13-02-2022       09:20  ...   \n",
              "4                     0.457321  14-02-2022       19:50  ...   \n",
              "\n",
              "  Road_traffic_density_Medium  Type_of_order_Drinks  Type_of_order_Meal  \\\n",
              "0                       False                 False               False   \n",
              "1                       False                 False                True   \n",
              "2                        True                  True               False   \n",
              "3                       False                 False               False   \n",
              "4                       False                 False               False   \n",
              "\n",
              "   Type_of_order_Snack  Type_of_vehicle_electric_scooter  \\\n",
              "0                 True                             False   \n",
              "1                False                             False   \n",
              "2                False                             False   \n",
              "3                False                             False   \n",
              "4                 True                             False   \n",
              "\n",
              "   Type_of_vehicle_motorcycle  Type_of_vehicle_scooter  Festival_Yes  \\\n",
              "0                        True                    False         False   \n",
              "1                        True                    False         False   \n",
              "2                       False                     True         False   \n",
              "3                        True                    False         False   \n",
              "4                       False                     True         False   \n",
              "\n",
              "   City_Semi-Urban  City_Urban  \n",
              "0            False       False  \n",
              "1            False       False  \n",
              "2            False       False  \n",
              "3            False       False  \n",
              "4            False       False  \n",
              "\n",
              "[5 rows x 31 columns]"
            ]
          },
          "metadata": {},
          "output_type": "display_data"
        },
        {
          "name": "stdout",
          "output_type": "stream",
          "text": [
            "<class 'pandas.core.frame.DataFrame'>\n",
            "RangeIndex: 45584 entries, 0 to 45583\n",
            "Data columns (total 31 columns):\n",
            " #   Column                            Non-Null Count  Dtype  \n",
            "---  ------                            --------------  -----  \n",
            " 0   ID                                45584 non-null  object \n",
            " 1   Delivery_person_ID                45584 non-null  object \n",
            " 2   Delivery_person_Age               45584 non-null  float64\n",
            " 3   Delivery_person_Ratings           45584 non-null  float64\n",
            " 4   Restaurant_latitude               45584 non-null  float64\n",
            " 5   Restaurant_longitude              45584 non-null  float64\n",
            " 6   Delivery_location_latitude        45584 non-null  float64\n",
            " 7   Delivery_location_longitude       45584 non-null  float64\n",
            " 8   Order_Date                        45584 non-null  object \n",
            " 9   Time_Orderd                       45584 non-null  object \n",
            " 10  Time_Order_picked                 45584 non-null  object \n",
            " 11  Vehicle_condition                 45584 non-null  float64\n",
            " 12  multiple_deliveries               45584 non-null  float64\n",
            " 13  Time_taken (min)                  45584 non-null  float64\n",
            " 14  Weather_conditions_Fog            45584 non-null  bool   \n",
            " 15  Weather_conditions_Sandstorms     45584 non-null  bool   \n",
            " 16  Weather_conditions_Stormy         45584 non-null  bool   \n",
            " 17  Weather_conditions_Sunny          45584 non-null  bool   \n",
            " 18  Weather_conditions_Windy          45584 non-null  bool   \n",
            " 19  Road_traffic_density_Jam          45584 non-null  bool   \n",
            " 20  Road_traffic_density_Low          45584 non-null  bool   \n",
            " 21  Road_traffic_density_Medium       45584 non-null  bool   \n",
            " 22  Type_of_order_Drinks              45584 non-null  bool   \n",
            " 23  Type_of_order_Meal                45584 non-null  bool   \n",
            " 24  Type_of_order_Snack               45584 non-null  bool   \n",
            " 25  Type_of_vehicle_electric_scooter  45584 non-null  bool   \n",
            " 26  Type_of_vehicle_motorcycle        45584 non-null  bool   \n",
            " 27  Type_of_vehicle_scooter           45584 non-null  bool   \n",
            " 28  Festival_Yes                      45584 non-null  bool   \n",
            " 29  City_Semi-Urban                   45584 non-null  bool   \n",
            " 30  City_Urban                        45584 non-null  bool   \n",
            "dtypes: bool(17), float64(9), object(5)\n",
            "memory usage: 5.6+ MB\n"
          ]
        },
        {
          "data": {
            "text/plain": [
              "None"
            ]
          },
          "metadata": {},
          "output_type": "display_data"
        }
      ],
      "source": [
        "from sklearn.preprocessing import StandardScaler\n",
        "\n",
        "# Identify categorical columns for one-hot encoding\n",
        "categorical_cols = df.select_dtypes(include='object').columns.tolist()\n",
        "\n",
        "# Exclude columns that are not suitable for one-hot encoding or are identifiers\n",
        "cols_to_exclude = ['ID', 'Delivery_person_ID', 'Order_Date', 'Time_Orderd', 'Time_Order_picked']\n",
        "categorical_cols = [col for col in categorical_cols if col not in cols_to_exclude]\n",
        "\n",
        "# Apply one-hot encoding\n",
        "df_encoded = pd.get_dummies(df, columns=categorical_cols, drop_first=True)\n",
        "\n",
        "# Identify numerical columns for scaling, excluding the newly created dummy variables\n",
        "numerical_cols = df_encoded.select_dtypes(include=['int64', 'float64']).columns.tolist()\n",
        "\n",
        "# Exclude columns that are results of one-hot encoding or are identifiers\n",
        "numerical_cols = [col for col in numerical_cols if col not in selected_columns and col not in cols_to_exclude]\n",
        "\n",
        "# Initialize StandardScaler\n",
        "scaler = StandardScaler()\n",
        "\n",
        "# Fit and transform numerical columns and replace original columns\n",
        "df_encoded[numerical_cols] = scaler.fit_transform(df_encoded[numerical_cols])\n",
        "\n",
        "# Display the first few rows and data types to verify transformations\n",
        "display(df_encoded.head())\n",
        "display(df_encoded.info())"
      ]
    },
    {
      "cell_type": "markdown",
      "metadata": {
        "id": "2a2d0df5"
      },
      "source": [
        "## Identify best features\n",
        "\n",
        "### Subtask:\n",
        "Determine the most relevant features for analysis or modeling using techniques like correlation analysis or feature importance methods.\n"
      ]
    },
    {
      "cell_type": "markdown",
      "metadata": {
        "id": "bda83390"
      },
      "source": [
        "**Reasoning**:\n",
        "Calculate and display the correlation matrix with the target variable 'Time_taken (min)' and visualize it with a heatmap to identify relevant features.\n",
        "\n"
      ]
    },
    {
      "cell_type": "code",
      "execution_count": 15,
      "metadata": {
        "colab": {
          "base_uri": "https://localhost:8080/",
          "height": 370
        },
        "id": "5b458512",
        "outputId": "82f0dff0-d67d-40fb-a691-5ee3d5e41b83"
      },
      "outputs": [
        {
          "ename": "ValueError",
          "evalue": "could not convert string to float: '0xcdcd'",
          "output_type": "error",
          "traceback": [
            "\u001b[1;31m---------------------------------------------------------------------------\u001b[0m",
            "\u001b[1;31mValueError\u001b[0m                                Traceback (most recent call last)",
            "Cell \u001b[1;32mIn[15], line 5\u001b[0m\n\u001b[0;32m      2\u001b[0m \u001b[38;5;28;01mimport\u001b[39;00m \u001b[38;5;21;01mseaborn\u001b[39;00m \u001b[38;5;28;01mas\u001b[39;00m \u001b[38;5;21;01msns\u001b[39;00m\n\u001b[0;32m      4\u001b[0m \u001b[38;5;66;03m# Calculate the correlation matrix\u001b[39;00m\n\u001b[1;32m----> 5\u001b[0m correlation_matrix \u001b[38;5;241m=\u001b[39m df_encoded\u001b[38;5;241m.\u001b[39mcorr()\n\u001b[0;32m      7\u001b[0m \u001b[38;5;66;03m# Display correlations with the target variable 'Time_taken (min)'\u001b[39;00m\n\u001b[0;32m      8\u001b[0m display(correlation_matrix[\u001b[38;5;124m'\u001b[39m\u001b[38;5;124mTime_taken (min)\u001b[39m\u001b[38;5;124m'\u001b[39m]\u001b[38;5;241m.\u001b[39msort_values(ascending\u001b[38;5;241m=\u001b[39m\u001b[38;5;28;01mFalse\u001b[39;00m))\n",
            "File \u001b[1;32mc:\\Users\\Shamshuddeen\\anaconda3\\Lib\\site-packages\\pandas\\core\\frame.py:11049\u001b[0m, in \u001b[0;36mDataFrame.corr\u001b[1;34m(self, method, min_periods, numeric_only)\u001b[0m\n\u001b[0;32m  11047\u001b[0m cols \u001b[38;5;241m=\u001b[39m data\u001b[38;5;241m.\u001b[39mcolumns\n\u001b[0;32m  11048\u001b[0m idx \u001b[38;5;241m=\u001b[39m cols\u001b[38;5;241m.\u001b[39mcopy()\n\u001b[1;32m> 11049\u001b[0m mat \u001b[38;5;241m=\u001b[39m data\u001b[38;5;241m.\u001b[39mto_numpy(dtype\u001b[38;5;241m=\u001b[39m\u001b[38;5;28mfloat\u001b[39m, na_value\u001b[38;5;241m=\u001b[39mnp\u001b[38;5;241m.\u001b[39mnan, copy\u001b[38;5;241m=\u001b[39m\u001b[38;5;28;01mFalse\u001b[39;00m)\n\u001b[0;32m  11051\u001b[0m \u001b[38;5;28;01mif\u001b[39;00m method \u001b[38;5;241m==\u001b[39m \u001b[38;5;124m\"\u001b[39m\u001b[38;5;124mpearson\u001b[39m\u001b[38;5;124m\"\u001b[39m:\n\u001b[0;32m  11052\u001b[0m     correl \u001b[38;5;241m=\u001b[39m libalgos\u001b[38;5;241m.\u001b[39mnancorr(mat, minp\u001b[38;5;241m=\u001b[39mmin_periods)\n",
            "File \u001b[1;32mc:\\Users\\Shamshuddeen\\anaconda3\\Lib\\site-packages\\pandas\\core\\frame.py:1993\u001b[0m, in \u001b[0;36mDataFrame.to_numpy\u001b[1;34m(self, dtype, copy, na_value)\u001b[0m\n\u001b[0;32m   1991\u001b[0m \u001b[38;5;28;01mif\u001b[39;00m dtype \u001b[38;5;129;01mis\u001b[39;00m \u001b[38;5;129;01mnot\u001b[39;00m \u001b[38;5;28;01mNone\u001b[39;00m:\n\u001b[0;32m   1992\u001b[0m     dtype \u001b[38;5;241m=\u001b[39m np\u001b[38;5;241m.\u001b[39mdtype(dtype)\n\u001b[1;32m-> 1993\u001b[0m result \u001b[38;5;241m=\u001b[39m \u001b[38;5;28mself\u001b[39m\u001b[38;5;241m.\u001b[39m_mgr\u001b[38;5;241m.\u001b[39mas_array(dtype\u001b[38;5;241m=\u001b[39mdtype, copy\u001b[38;5;241m=\u001b[39mcopy, na_value\u001b[38;5;241m=\u001b[39mna_value)\n\u001b[0;32m   1994\u001b[0m \u001b[38;5;28;01mif\u001b[39;00m result\u001b[38;5;241m.\u001b[39mdtype \u001b[38;5;129;01mis\u001b[39;00m \u001b[38;5;129;01mnot\u001b[39;00m dtype:\n\u001b[0;32m   1995\u001b[0m     result \u001b[38;5;241m=\u001b[39m np\u001b[38;5;241m.\u001b[39masarray(result, dtype\u001b[38;5;241m=\u001b[39mdtype)\n",
            "File \u001b[1;32mc:\\Users\\Shamshuddeen\\anaconda3\\Lib\\site-packages\\pandas\\core\\internals\\managers.py:1694\u001b[0m, in \u001b[0;36mBlockManager.as_array\u001b[1;34m(self, dtype, copy, na_value)\u001b[0m\n\u001b[0;32m   1692\u001b[0m         arr\u001b[38;5;241m.\u001b[39mflags\u001b[38;5;241m.\u001b[39mwriteable \u001b[38;5;241m=\u001b[39m \u001b[38;5;28;01mFalse\u001b[39;00m\n\u001b[0;32m   1693\u001b[0m \u001b[38;5;28;01melse\u001b[39;00m:\n\u001b[1;32m-> 1694\u001b[0m     arr \u001b[38;5;241m=\u001b[39m \u001b[38;5;28mself\u001b[39m\u001b[38;5;241m.\u001b[39m_interleave(dtype\u001b[38;5;241m=\u001b[39mdtype, na_value\u001b[38;5;241m=\u001b[39mna_value)\n\u001b[0;32m   1695\u001b[0m     \u001b[38;5;66;03m# The underlying data was copied within _interleave, so no need\u001b[39;00m\n\u001b[0;32m   1696\u001b[0m     \u001b[38;5;66;03m# to further copy if copy=True or setting na_value\u001b[39;00m\n\u001b[0;32m   1698\u001b[0m \u001b[38;5;28;01mif\u001b[39;00m na_value \u001b[38;5;129;01mis\u001b[39;00m lib\u001b[38;5;241m.\u001b[39mno_default:\n",
            "File \u001b[1;32mc:\\Users\\Shamshuddeen\\anaconda3\\Lib\\site-packages\\pandas\\core\\internals\\managers.py:1753\u001b[0m, in \u001b[0;36mBlockManager._interleave\u001b[1;34m(self, dtype, na_value)\u001b[0m\n\u001b[0;32m   1751\u001b[0m     \u001b[38;5;28;01melse\u001b[39;00m:\n\u001b[0;32m   1752\u001b[0m         arr \u001b[38;5;241m=\u001b[39m blk\u001b[38;5;241m.\u001b[39mget_values(dtype)\n\u001b[1;32m-> 1753\u001b[0m     result[rl\u001b[38;5;241m.\u001b[39mindexer] \u001b[38;5;241m=\u001b[39m arr\n\u001b[0;32m   1754\u001b[0m     itemmask[rl\u001b[38;5;241m.\u001b[39mindexer] \u001b[38;5;241m=\u001b[39m \u001b[38;5;241m1\u001b[39m\n\u001b[0;32m   1756\u001b[0m \u001b[38;5;28;01mif\u001b[39;00m \u001b[38;5;129;01mnot\u001b[39;00m itemmask\u001b[38;5;241m.\u001b[39mall():\n",
            "\u001b[1;31mValueError\u001b[0m: could not convert string to float: '0xcdcd'"
          ]
        }
      ],
      "source": [
        "import matplotlib.pyplot as plt\n",
        "import seaborn as sns\n",
        "\n",
        "# Calculate the correlation matrix\n",
        "correlation_matrix = df_encoded.corr()\n",
        "\n",
        "# Display correlations with the target variable 'Time_taken (min)'\n",
        "display(correlation_matrix['Time_taken (min)'].sort_values(ascending=False))\n",
        "\n",
        "# Visualize the correlations with a heatmap\n",
        "plt.figure(figsize=(12, 10))\n",
        "sns.heatmap(correlation_matrix[['Time_taken (min)']].sort_values(by='Time_taken (min)', ascending=False), annot=True, cmap='coolwarm', fmt=\".2f\")\n",
        "plt.title('Correlation with Time_taken (min)')\n",
        "plt.show()"
      ]
    },
    {
      "cell_type": "markdown",
      "metadata": {
        "id": "45263ce6"
      },
      "source": [
        "**Reasoning**:\n",
        "The error indicates that the 'ID' and 'Delivery_person_ID' columns, which are of object type and contain non-numeric values, were not excluded before calculating the correlation matrix. These columns were already identified to be excluded from transformations in the previous step. Recalculate the correlation matrix after dropping these identifier columns.\n",
        "\n"
      ]
    },
    {
      "cell_type": "code",
      "execution_count": null,
      "metadata": {
        "colab": {
          "base_uri": "https://localhost:8080/",
          "height": 370
        },
        "id": "n-MTLS4_v4Z4",
        "outputId": "a66151dc-2b36-4d6c-c23a-ff2c8557b157"
      },
      "outputs": [
        {
          "ename": "ValueError",
          "evalue": "could not convert string to float: '12-02-2022'",
          "output_type": "error",
          "traceback": [
            "\u001b[0;31m---------------------------------------------------------------------------\u001b[0m",
            "\u001b[0;31mValueError\u001b[0m                                Traceback (most recent call last)",
            "\u001b[0;32m/tmp/ipython-input-1109294705.py\u001b[0m in \u001b[0;36m<cell line: 0>\u001b[0;34m()\u001b[0m\n\u001b[1;32m      3\u001b[0m \u001b[0;34m\u001b[0m\u001b[0m\n\u001b[1;32m      4\u001b[0m \u001b[0;31m# Calculate the correlation matrix\u001b[0m\u001b[0;34m\u001b[0m\u001b[0;34m\u001b[0m\u001b[0m\n\u001b[0;32m----> 5\u001b[0;31m \u001b[0mcorrelation_matrix\u001b[0m \u001b[0;34m=\u001b[0m \u001b[0mdf_encoded_cleaned\u001b[0m\u001b[0;34m.\u001b[0m\u001b[0mcorr\u001b[0m\u001b[0;34m(\u001b[0m\u001b[0;34m)\u001b[0m\u001b[0;34m\u001b[0m\u001b[0;34m\u001b[0m\u001b[0m\n\u001b[0m\u001b[1;32m      6\u001b[0m \u001b[0;34m\u001b[0m\u001b[0m\n\u001b[1;32m      7\u001b[0m \u001b[0;31m# Display correlations with the target variable 'Time_taken (min)'\u001b[0m\u001b[0;34m\u001b[0m\u001b[0;34m\u001b[0m\u001b[0m\n",
            "\u001b[0;32m/usr/local/lib/python3.12/dist-packages/pandas/core/frame.py\u001b[0m in \u001b[0;36mcorr\u001b[0;34m(self, method, min_periods, numeric_only)\u001b[0m\n\u001b[1;32m  11047\u001b[0m         \u001b[0mcols\u001b[0m \u001b[0;34m=\u001b[0m \u001b[0mdata\u001b[0m\u001b[0;34m.\u001b[0m\u001b[0mcolumns\u001b[0m\u001b[0;34m\u001b[0m\u001b[0;34m\u001b[0m\u001b[0m\n\u001b[1;32m  11048\u001b[0m         \u001b[0midx\u001b[0m \u001b[0;34m=\u001b[0m \u001b[0mcols\u001b[0m\u001b[0;34m.\u001b[0m\u001b[0mcopy\u001b[0m\u001b[0;34m(\u001b[0m\u001b[0;34m)\u001b[0m\u001b[0;34m\u001b[0m\u001b[0;34m\u001b[0m\u001b[0m\n\u001b[0;32m> 11049\u001b[0;31m         \u001b[0mmat\u001b[0m \u001b[0;34m=\u001b[0m \u001b[0mdata\u001b[0m\u001b[0;34m.\u001b[0m\u001b[0mto_numpy\u001b[0m\u001b[0;34m(\u001b[0m\u001b[0mdtype\u001b[0m\u001b[0;34m=\u001b[0m\u001b[0mfloat\u001b[0m\u001b[0;34m,\u001b[0m \u001b[0mna_value\u001b[0m\u001b[0;34m=\u001b[0m\u001b[0mnp\u001b[0m\u001b[0;34m.\u001b[0m\u001b[0mnan\u001b[0m\u001b[0;34m,\u001b[0m \u001b[0mcopy\u001b[0m\u001b[0;34m=\u001b[0m\u001b[0;32mFalse\u001b[0m\u001b[0;34m)\u001b[0m\u001b[0;34m\u001b[0m\u001b[0;34m\u001b[0m\u001b[0m\n\u001b[0m\u001b[1;32m  11050\u001b[0m \u001b[0;34m\u001b[0m\u001b[0m\n\u001b[1;32m  11051\u001b[0m         \u001b[0;32mif\u001b[0m \u001b[0mmethod\u001b[0m \u001b[0;34m==\u001b[0m \u001b[0;34m\"pearson\"\u001b[0m\u001b[0;34m:\u001b[0m\u001b[0;34m\u001b[0m\u001b[0;34m\u001b[0m\u001b[0m\n",
            "\u001b[0;32m/usr/local/lib/python3.12/dist-packages/pandas/core/frame.py\u001b[0m in \u001b[0;36mto_numpy\u001b[0;34m(self, dtype, copy, na_value)\u001b[0m\n\u001b[1;32m   1991\u001b[0m         \u001b[0;32mif\u001b[0m \u001b[0mdtype\u001b[0m \u001b[0;32mis\u001b[0m \u001b[0;32mnot\u001b[0m \u001b[0;32mNone\u001b[0m\u001b[0;34m:\u001b[0m\u001b[0;34m\u001b[0m\u001b[0;34m\u001b[0m\u001b[0m\n\u001b[1;32m   1992\u001b[0m             \u001b[0mdtype\u001b[0m \u001b[0;34m=\u001b[0m \u001b[0mnp\u001b[0m\u001b[0;34m.\u001b[0m\u001b[0mdtype\u001b[0m\u001b[0;34m(\u001b[0m\u001b[0mdtype\u001b[0m\u001b[0;34m)\u001b[0m\u001b[0;34m\u001b[0m\u001b[0;34m\u001b[0m\u001b[0m\n\u001b[0;32m-> 1993\u001b[0;31m         \u001b[0mresult\u001b[0m \u001b[0;34m=\u001b[0m \u001b[0mself\u001b[0m\u001b[0;34m.\u001b[0m\u001b[0m_mgr\u001b[0m\u001b[0;34m.\u001b[0m\u001b[0mas_array\u001b[0m\u001b[0;34m(\u001b[0m\u001b[0mdtype\u001b[0m\u001b[0;34m=\u001b[0m\u001b[0mdtype\u001b[0m\u001b[0;34m,\u001b[0m \u001b[0mcopy\u001b[0m\u001b[0;34m=\u001b[0m\u001b[0mcopy\u001b[0m\u001b[0;34m,\u001b[0m \u001b[0mna_value\u001b[0m\u001b[0;34m=\u001b[0m\u001b[0mna_value\u001b[0m\u001b[0;34m)\u001b[0m\u001b[0;34m\u001b[0m\u001b[0;34m\u001b[0m\u001b[0m\n\u001b[0m\u001b[1;32m   1994\u001b[0m         \u001b[0;32mif\u001b[0m \u001b[0mresult\u001b[0m\u001b[0;34m.\u001b[0m\u001b[0mdtype\u001b[0m \u001b[0;32mis\u001b[0m \u001b[0;32mnot\u001b[0m \u001b[0mdtype\u001b[0m\u001b[0;34m:\u001b[0m\u001b[0;34m\u001b[0m\u001b[0;34m\u001b[0m\u001b[0m\n\u001b[1;32m   1995\u001b[0m             \u001b[0mresult\u001b[0m \u001b[0;34m=\u001b[0m \u001b[0mnp\u001b[0m\u001b[0;34m.\u001b[0m\u001b[0masarray\u001b[0m\u001b[0;34m(\u001b[0m\u001b[0mresult\u001b[0m\u001b[0;34m,\u001b[0m \u001b[0mdtype\u001b[0m\u001b[0;34m=\u001b[0m\u001b[0mdtype\u001b[0m\u001b[0;34m)\u001b[0m\u001b[0;34m\u001b[0m\u001b[0;34m\u001b[0m\u001b[0m\n",
            "\u001b[0;32m/usr/local/lib/python3.12/dist-packages/pandas/core/internals/managers.py\u001b[0m in \u001b[0;36mas_array\u001b[0;34m(self, dtype, copy, na_value)\u001b[0m\n\u001b[1;32m   1692\u001b[0m                 \u001b[0marr\u001b[0m\u001b[0;34m.\u001b[0m\u001b[0mflags\u001b[0m\u001b[0;34m.\u001b[0m\u001b[0mwriteable\u001b[0m \u001b[0;34m=\u001b[0m \u001b[0;32mFalse\u001b[0m\u001b[0;34m\u001b[0m\u001b[0;34m\u001b[0m\u001b[0m\n\u001b[1;32m   1693\u001b[0m         \u001b[0;32melse\u001b[0m\u001b[0;34m:\u001b[0m\u001b[0;34m\u001b[0m\u001b[0;34m\u001b[0m\u001b[0m\n\u001b[0;32m-> 1694\u001b[0;31m             \u001b[0marr\u001b[0m \u001b[0;34m=\u001b[0m \u001b[0mself\u001b[0m\u001b[0;34m.\u001b[0m\u001b[0m_interleave\u001b[0m\u001b[0;34m(\u001b[0m\u001b[0mdtype\u001b[0m\u001b[0;34m=\u001b[0m\u001b[0mdtype\u001b[0m\u001b[0;34m,\u001b[0m \u001b[0mna_value\u001b[0m\u001b[0;34m=\u001b[0m\u001b[0mna_value\u001b[0m\u001b[0;34m)\u001b[0m\u001b[0;34m\u001b[0m\u001b[0;34m\u001b[0m\u001b[0m\n\u001b[0m\u001b[1;32m   1695\u001b[0m             \u001b[0;31m# The underlying data was copied within _interleave, so no need\u001b[0m\u001b[0;34m\u001b[0m\u001b[0;34m\u001b[0m\u001b[0m\n\u001b[1;32m   1696\u001b[0m             \u001b[0;31m# to further copy if copy=True or setting na_value\u001b[0m\u001b[0;34m\u001b[0m\u001b[0;34m\u001b[0m\u001b[0m\n",
            "\u001b[0;32m/usr/local/lib/python3.12/dist-packages/pandas/core/internals/managers.py\u001b[0m in \u001b[0;36m_interleave\u001b[0;34m(self, dtype, na_value)\u001b[0m\n\u001b[1;32m   1751\u001b[0m             \u001b[0;32melse\u001b[0m\u001b[0;34m:\u001b[0m\u001b[0;34m\u001b[0m\u001b[0;34m\u001b[0m\u001b[0m\n\u001b[1;32m   1752\u001b[0m                 \u001b[0marr\u001b[0m \u001b[0;34m=\u001b[0m \u001b[0mblk\u001b[0m\u001b[0;34m.\u001b[0m\u001b[0mget_values\u001b[0m\u001b[0;34m(\u001b[0m\u001b[0mdtype\u001b[0m\u001b[0;34m)\u001b[0m\u001b[0;34m\u001b[0m\u001b[0;34m\u001b[0m\u001b[0m\n\u001b[0;32m-> 1753\u001b[0;31m             \u001b[0mresult\u001b[0m\u001b[0;34m[\u001b[0m\u001b[0mrl\u001b[0m\u001b[0;34m.\u001b[0m\u001b[0mindexer\u001b[0m\u001b[0;34m]\u001b[0m \u001b[0;34m=\u001b[0m \u001b[0marr\u001b[0m\u001b[0;34m\u001b[0m\u001b[0;34m\u001b[0m\u001b[0m\n\u001b[0m\u001b[1;32m   1754\u001b[0m             \u001b[0mitemmask\u001b[0m\u001b[0;34m[\u001b[0m\u001b[0mrl\u001b[0m\u001b[0;34m.\u001b[0m\u001b[0mindexer\u001b[0m\u001b[0;34m]\u001b[0m \u001b[0;34m=\u001b[0m \u001b[0;36m1\u001b[0m\u001b[0;34m\u001b[0m\u001b[0;34m\u001b[0m\u001b[0m\n\u001b[1;32m   1755\u001b[0m \u001b[0;34m\u001b[0m\u001b[0m\n",
            "\u001b[0;31mValueError\u001b[0m: could not convert string to float: '12-02-2022'"
          ]
        }
      ],
      "source": [
        "# Drop the identifier columns 'ID' and 'Delivery_person_ID' before calculating correlation\n",
        "df_encoded_cleaned = df_encoded.drop(columns=['ID', 'Delivery_person_ID'])\n",
        "\n",
        "# Calculate the correlation matrix\n",
        "correlation_matrix = df_encoded_cleaned.corr()\n",
        "\n",
        "# Display correlations with the target variable 'Time_taken (min)'\n",
        "display(correlation_matrix['Time_taken (min)'].sort_values(ascending=False))\n",
        "\n",
        "# Visualize the correlations with a heatmap\n",
        "plt.figure(figsize=(12, 10))\n",
        "sns.heatmap(correlation_matrix[['Time_taken (min)']].sort_values(by='Time_taken (min)', ascending=False), annot=True, cmap='coolwarm', fmt=\".2f\")\n",
        "plt.title('Correlation with Time_taken (min)')\n",
        "plt.show()"
      ]
    },
    {
      "cell_type": "markdown",
      "metadata": {
        "id": "02f24ce0"
      },
      "source": [
        "**Reasoning**:\n",
        "The error indicates that there are still non-numeric columns in the DataFrame, specifically 'Order_Date', 'Time_Orderd', and 'Time_Order_picked', which contain date and time information in string format. These columns were also identified to be excluded from transformations in the previous step. Recalculate the correlation matrix after dropping these columns.\n",
        "\n"
      ]
    },
    {
      "cell_type": "code",
      "execution_count": 17,
      "metadata": {
        "colab": {
          "base_uri": "https://localhost:8080/",
          "height": 1000
        },
        "id": "8TJMUZl8v6Dd",
        "outputId": "7ba937dc-f765-4a64-b1a0-3e8e26a5c03a"
      },
      "outputs": [
        {
          "data": {
            "application/vnd.microsoft.datawrangler.viewer.v0+json": {
              "columns": [
                {
                  "name": "index",
                  "rawType": "object",
                  "type": "string"
                },
                {
                  "name": "Time_taken (min)",
                  "rawType": "float64",
                  "type": "float"
                }
              ],
              "ref": "0f2aec74-5c36-4404-8a36-7ec987f3a28f",
              "rows": [
                [
                  "Time_taken (min)",
                  "1.0"
                ],
                [
                  "multiple_deliveries",
                  "0.3713293255948777"
                ],
                [
                  "Road_traffic_density_Jam",
                  "0.3485673595902947"
                ],
                [
                  "Delivery_person_Age",
                  "0.29387163727347354"
                ],
                [
                  "Festival_Yes",
                  "0.28840023715918855"
                ],
                [
                  "Type_of_vehicle_motorcycle",
                  "0.1638378551456064"
                ],
                [
                  "City_Semi-Urban",
                  "0.1472580166867629"
                ],
                [
                  "Weather_conditions_Fog",
                  "0.12281539027603533"
                ],
                [
                  "Road_traffic_density_Medium",
                  "0.02491838956225053"
                ],
                [
                  "Delivery_location_latitude",
                  "0.014242424523918003"
                ],
                [
                  "Restaurant_latitude",
                  "0.014025763947283248"
                ],
                [
                  "Restaurant_longitude",
                  "0.007914787836643225"
                ],
                [
                  "Type_of_order_Meal",
                  "0.007677258159323384"
                ],
                [
                  "Delivery_location_longitude",
                  "0.007611558667853435"
                ],
                [
                  "Type_of_order_Snack",
                  "-0.0005738421934393939"
                ],
                [
                  "Type_of_order_Drinks",
                  "-0.006425794163109698"
                ],
                [
                  "Weather_conditions_Windy",
                  "-0.008221410947977984"
                ],
                [
                  "Weather_conditions_Sandstorms",
                  "-0.019703319650854943"
                ],
                [
                  "Weather_conditions_Stormy",
                  "-0.020264685726129245"
                ],
                [
                  "Type_of_vehicle_electric_scooter",
                  "-0.058606496892379706"
                ],
                [
                  "Type_of_vehicle_scooter",
                  "-0.13699781438796085"
                ],
                [
                  "City_Urban",
                  "-0.1888162121623504"
                ],
                [
                  "Weather_conditions_Sunny",
                  "-0.20679016213617107"
                ],
                [
                  "Vehicle_condition",
                  "-0.23398338659813922"
                ],
                [
                  "Delivery_person_Ratings",
                  "-0.324280830922016"
                ],
                [
                  "Road_traffic_density_Low",
                  "-0.3802865060575593"
                ]
              ],
              "shape": {
                "columns": 1,
                "rows": 26
              }
            },
            "text/plain": [
              "Time_taken (min)                    1.000000\n",
              "multiple_deliveries                 0.371329\n",
              "Road_traffic_density_Jam            0.348567\n",
              "Delivery_person_Age                 0.293872\n",
              "Festival_Yes                        0.288400\n",
              "Type_of_vehicle_motorcycle          0.163838\n",
              "City_Semi-Urban                     0.147258\n",
              "Weather_conditions_Fog              0.122815\n",
              "Road_traffic_density_Medium         0.024918\n",
              "Delivery_location_latitude          0.014242\n",
              "Restaurant_latitude                 0.014026\n",
              "Restaurant_longitude                0.007915\n",
              "Type_of_order_Meal                  0.007677\n",
              "Delivery_location_longitude         0.007612\n",
              "Type_of_order_Snack                -0.000574\n",
              "Type_of_order_Drinks               -0.006426\n",
              "Weather_conditions_Windy           -0.008221\n",
              "Weather_conditions_Sandstorms      -0.019703\n",
              "Weather_conditions_Stormy          -0.020265\n",
              "Type_of_vehicle_electric_scooter   -0.058606\n",
              "Type_of_vehicle_scooter            -0.136998\n",
              "City_Urban                         -0.188816\n",
              "Weather_conditions_Sunny           -0.206790\n",
              "Vehicle_condition                  -0.233983\n",
              "Delivery_person_Ratings            -0.324281\n",
              "Road_traffic_density_Low           -0.380287\n",
              "Name: Time_taken (min), dtype: float64"
            ]
          },
          "metadata": {},
          "output_type": "display_data"
        },
        {
          "data": {
            "image/png": "[encoded data removed]",
            "text/plain": [
              "<Figure size 1200x1000 with 2 Axes>"
            ]
          },
          "metadata": {},
          "output_type": "display_data"
        }
      ],
      "source": [
        "# Drop the identifier and time/date columns before calculating correlation\n",
        "df_encoded_cleaned = df_encoded.drop(columns=['ID', 'Delivery_person_ID', 'Order_Date', 'Time_Orderd', 'Time_Order_picked'])\n",
        "\n",
        "# Calculate the correlation matrix\n",
        "correlation_matrix = df_encoded_cleaned.corr()\n",
        "\n",
        "# Display correlations with the target variable 'Time_taken (min)'\n",
        "display(correlation_matrix['Time_taken (min)'].sort_values(ascending=False))\n",
        "\n",
        "# Visualize the correlations with a heatmap\n",
        "plt.figure(figsize=(12, 10))\n",
        "sns.heatmap(correlation_matrix[['Time_taken (min)']].sort_values(by='Time_taken (min)', ascending=False), annot=True, cmap='coolwarm', fmt=\".2f\")\n",
        "plt.title('Correlation with Time_taken (min)')\n",
        "plt.show()"
      ]
    },
    {
      "cell_type": "markdown",
      "metadata": {
        "id": "e4b45288"
      },
      "source": [
        "## Summary:\n",
        "\n",
        "### Data Analysis Key Findings\n",
        "\n",
        "*   Several columns initially had missing values, including `Delivery_person_Age` (1854), `Delivery_person_Ratings` (1908), `Time_Orderd` (1731), `Weather_conditions` (616), `Road_traffic_density` (601), `multiple_deliveries` (993), `Festival` (228), and `City` (1200). These missing values were successfully handled through imputation (median for age, mean for ratings, and mode for categorical/time-related columns).\n",
        "*   Outliers were detected in 'Delivery\\_person\\_Age' (53), 'Delivery\\_person\\_Ratings' (5345), 'multiple\\_deliveries' (993), and 'Time\\_taken (min)' (250). These outliers were addressed by capping using the Interquartile Range (IQR) method.\n",
        "*   Categorical features were successfully one-hot encoded, and numerical features (excluding identifiers and time/date columns) were scaled using `StandardScaler`.\n",
        "*   Correlation analysis with the target variable 'Time\\_taken (min)' revealed several features with notable linear relationships. Features with the strongest positive correlation include `multiple_deliveries`, `Road_traffic_density_Jam`, `Delivery_person_Age`, and `Festival_Yes`. Features with the strongest negative correlation include `Road_traffic_density_Low`, `Delivery_person_Ratings`, `Vehicle_condition`, `Weather_conditions_Sunny`, and `City_Urban`.\n",
        "\n",
        "\n"
      ]
    },
    {
      "cell_type": "code",
      "execution_count": 18,
      "metadata": {
        "id": "12b73c2e"
      },
      "outputs": [],
      "source": [
        "# Save the cleaned and transformed DataFrame to a new CSV file\n",
        "df_encoded_cleaned.to_csv(r'Datasets\\cleaned_zomato_dataset.csv', index=False)"
      ]
    }
  ],
  "metadata": {
    "colab": {
      "provenance": []
    },
    "kernelspec": {
      "display_name": "base",
      "language": "python",
      "name": "python3"
    },
    "language_info": {
      "codemirror_mode": {
        "name": "ipython",
        "version": 3
      },
      "file_extension": ".py",
      "mimetype": "text/x-python",
      "name": "python",
      "nbconvert_exporter": "python",
      "pygments_lexer": "ipython3",
      "version": "3.12.7"
    }
  },
  "nbformat": 4,
  "nbformat_minor": 0
}
